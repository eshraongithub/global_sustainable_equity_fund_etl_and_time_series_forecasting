{
 "cells": [
  {
   "cell_type": "markdown",
   "id": "41539041-640c-402c-abba-efdf1a96dfa8",
   "metadata": {},
   "source": [
    "# GSEF descriptive anlaysis"
   ]
  },
  {
   "cell_type": "code",
   "execution_count": 1,
   "id": "204f8e49-b190-416a-9fb1-a69fdde5c064",
   "metadata": {},
   "outputs": [],
   "source": [
    "import timeit\n",
    "start_time = timeit.default_timer()"
   ]
  },
  {
   "cell_type": "markdown",
   "id": "cd5362ba-5e38-481c-8523-a81951232991",
   "metadata": {},
   "source": [
    "## Import libraries"
   ]
  },
  {
   "cell_type": "code",
   "execution_count": 2,
   "id": "4fa2df8c-0379-4eb9-b68c-b30bf97fdade",
   "metadata": {},
   "outputs": [],
   "source": [
    "## Import libraries\n",
    "import time\n",
    "import datetime\n",
    "import pandas as pd\n",
    "import io\n",
    "import matplotlib.pyplot as plt"
   ]
  },
  {
   "cell_type": "markdown",
   "id": "767a230f-a6ec-4547-87c2-3843551f6420",
   "metadata": {},
   "source": [
    "## Read data and reorder columns"
   ]
  },
  {
   "cell_type": "code",
   "execution_count": 3,
   "id": "81b1686b-1719-424e-812f-ac00cc00dec7",
   "metadata": {},
   "outputs": [],
   "source": [
    "gsef= pd.read_csv('gsef_output/historical_gsef.csv', parse_dates=['Date'], dayfirst=True)\n",
    "gsef['month_of_year'] = pd.to_datetime(gsef['Date']).dt.month_name()\n",
    "gsef['day_of_week'] = pd.to_datetime(gsef['Date']).dt.day_name()\n",
    "gsef['day_number'] = pd.to_datetime(gsef['Date']).dt.day\n",
    "\n",
    "cols = gsef.columns.tolist()\n",
    "\n",
    "cols = cols[:1] + cols[3:6] + cols[1:3]\n",
    "\n",
    "gsef = gsef[cols]"
   ]
  },
  {
   "cell_type": "markdown",
   "id": "83de560f-ca9e-4f38-8985-88cd90589a46",
   "metadata": {},
   "source": [
    "### Find out the average historical price"
   ]
  },
  {
   "cell_type": "code",
   "execution_count": 4,
   "id": "c388faff-4804-4d55-ab8d-0df833594ba1",
   "metadata": {},
   "outputs": [
    {
     "name": "stdout",
     "output_type": "stream",
     "text": [
      "The average closing price is: 238\n"
     ]
    }
   ],
   "source": [
    "average_day_number = int(gsef['Close'].mean())\n",
    "print(\"The average closing price is: {}\".format(average_day_number))"
   ]
  },
  {
   "cell_type": "markdown",
   "id": "b91d40b5-cfeb-4e47-add4-55cc20d18ec1",
   "metadata": {},
   "source": [
    "### Group and order data by month of year"
   ]
  },
  {
   "cell_type": "code",
   "execution_count": 5,
   "id": "694912a9-4b06-4727-b867-700b0aa5c0b4",
   "metadata": {},
   "outputs": [],
   "source": [
    "month_of_year= gsef.groupby(['month_of_year'])[['Close', 'pct_change']].mean()\n",
    "month_of_year = month_of_year.reset_index(level=0)\n",
    "\n",
    "month_of_year_order = ['January', 'February', 'March', 'April', 'May', 'June', 'July', 'August', 'September', 'October', 'November', 'December']\n",
    "month_of_year['month_of_year'] = pd.Categorical(month_of_year['month_of_year'], categories=month_of_year_order, ordered=True)\n",
    "month_of_year = month_of_year.sort_values('month_of_year').reset_index(drop=True)\n",
    "month_of_year.set_index('month_of_year', inplace=True)"
   ]
  },
  {
   "cell_type": "code",
   "execution_count": 6,
   "id": "d3f978bf-47fe-4761-9927-1a859fb2e158",
   "metadata": {},
   "outputs": [
    {
     "data": {
      "text/html": [
       "<div>\n",
       "<style scoped>\n",
       "    .dataframe tbody tr th:only-of-type {\n",
       "        vertical-align: middle;\n",
       "    }\n",
       "\n",
       "    .dataframe tbody tr th {\n",
       "        vertical-align: top;\n",
       "    }\n",
       "\n",
       "    .dataframe thead th {\n",
       "        text-align: right;\n",
       "    }\n",
       "</style>\n",
       "<table border=\"1\" class=\"dataframe\">\n",
       "  <thead>\n",
       "    <tr style=\"text-align: right;\">\n",
       "      <th></th>\n",
       "      <th>Close</th>\n",
       "      <th>pct_change</th>\n",
       "    </tr>\n",
       "    <tr>\n",
       "      <th>month_of_year</th>\n",
       "      <th></th>\n",
       "      <th></th>\n",
       "    </tr>\n",
       "  </thead>\n",
       "  <tbody>\n",
       "    <tr>\n",
       "      <th>January</th>\n",
       "      <td>238.100581</td>\n",
       "      <td>0.005075</td>\n",
       "    </tr>\n",
       "    <tr>\n",
       "      <th>February</th>\n",
       "      <td>239.304770</td>\n",
       "      <td>-0.009493</td>\n",
       "    </tr>\n",
       "    <tr>\n",
       "      <th>March</th>\n",
       "      <td>240.406632</td>\n",
       "      <td>0.032328</td>\n",
       "    </tr>\n",
       "    <tr>\n",
       "      <th>April</th>\n",
       "      <td>243.564817</td>\n",
       "      <td>0.105297</td>\n",
       "    </tr>\n",
       "    <tr>\n",
       "      <th>May</th>\n",
       "      <td>243.921931</td>\n",
       "      <td>0.039306</td>\n",
       "    </tr>\n",
       "    <tr>\n",
       "      <th>June</th>\n",
       "      <td>234.714608</td>\n",
       "      <td>-0.039032</td>\n",
       "    </tr>\n",
       "    <tr>\n",
       "      <th>July</th>\n",
       "      <td>233.943874</td>\n",
       "      <td>0.033312</td>\n",
       "    </tr>\n",
       "    <tr>\n",
       "      <th>August</th>\n",
       "      <td>236.869583</td>\n",
       "      <td>0.004396</td>\n",
       "    </tr>\n",
       "    <tr>\n",
       "      <th>September</th>\n",
       "      <td>234.307484</td>\n",
       "      <td>-0.060832</td>\n",
       "    </tr>\n",
       "    <tr>\n",
       "      <th>October</th>\n",
       "      <td>235.494773</td>\n",
       "      <td>0.071715</td>\n",
       "    </tr>\n",
       "    <tr>\n",
       "      <th>November</th>\n",
       "      <td>239.922767</td>\n",
       "      <td>0.043050</td>\n",
       "    </tr>\n",
       "    <tr>\n",
       "      <th>December</th>\n",
       "      <td>240.175870</td>\n",
       "      <td>0.004935</td>\n",
       "    </tr>\n",
       "  </tbody>\n",
       "</table>\n",
       "</div>"
      ],
      "text/plain": [
       "                    Close  pct_change\n",
       "month_of_year                        \n",
       "January        238.100581    0.005075\n",
       "February       239.304770   -0.009493\n",
       "March          240.406632    0.032328\n",
       "April          243.564817    0.105297\n",
       "May            243.921931    0.039306\n",
       "June           234.714608   -0.039032\n",
       "July           233.943874    0.033312\n",
       "August         236.869583    0.004396\n",
       "September      234.307484   -0.060832\n",
       "October        235.494773    0.071715\n",
       "November       239.922767    0.043050\n",
       "December       240.175870    0.004935"
      ]
     },
     "execution_count": 6,
     "metadata": {},
     "output_type": "execute_result"
    }
   ],
   "source": [
    "month_of_year"
   ]
  },
  {
   "cell_type": "code",
   "execution_count": 7,
   "id": "52e4e6fb-a3e0-4543-8990-ed9a820402c0",
   "metadata": {},
   "outputs": [
    {
     "data": {
      "image/png": "[encoded data removed]",
      "text/plain": [
       "<Figure size 1440x864 with 1 Axes>"
      ]
     },
     "metadata": {
      "needs_background": "light"
     },
     "output_type": "display_data"
    }
   ],
   "source": [
    "ax_month = month_of_year['Close'].plot.bar(rot=0, figsize=(20,12))\n",
    "\n",
    "ax_month.grid('on', which='minor', axis='y')\n",
    "ax_month.grid('off', which='major', axis='y')"
   ]
  },
  {
   "cell_type": "markdown",
   "id": "6de8e494-dc99-49c3-8f88-e5e43cd45507",
   "metadata": {},
   "source": [
    "### Group and order data by day of week"
   ]
  },
  {
   "cell_type": "code",
   "execution_count": 8,
   "id": "06d2a9eb-9263-41ed-a017-4f31dcebff63",
   "metadata": {},
   "outputs": [],
   "source": [
    "week_day= gsef.groupby(['day_of_week'])[['Close', 'pct_change']].mean()\n",
    "week_day = week_day.reset_index(level=0)\n",
    "\n",
    "day_of_week_order = ['Monday', 'Tuesday', 'Wednesday', 'Thursday', 'Friday', 'Saturday', 'Sunday']\n",
    "week_day['day_of_week'] = pd.Categorical(week_day['day_of_week'], categories=day_of_week_order, ordered=True)\n",
    "week_day = week_day.sort_values('day_of_week').reset_index(drop=True)\n",
    "week_day.set_index('day_of_week', inplace=True)"
   ]
  },
  {
   "cell_type": "code",
   "execution_count": 9,
   "id": "8457538e-2217-4c63-9169-e16a972b185e",
   "metadata": {},
   "outputs": [
    {
     "data": {
      "text/html": [
       "<div>\n",
       "<style scoped>\n",
       "    .dataframe tbody tr th:only-of-type {\n",
       "        vertical-align: middle;\n",
       "    }\n",
       "\n",
       "    .dataframe tbody tr th {\n",
       "        vertical-align: top;\n",
       "    }\n",
       "\n",
       "    .dataframe thead th {\n",
       "        text-align: right;\n",
       "    }\n",
       "</style>\n",
       "<table border=\"1\" class=\"dataframe\">\n",
       "  <thead>\n",
       "    <tr style=\"text-align: right;\">\n",
       "      <th></th>\n",
       "      <th>Close</th>\n",
       "      <th>pct_change</th>\n",
       "    </tr>\n",
       "    <tr>\n",
       "      <th>day_of_week</th>\n",
       "      <th></th>\n",
       "      <th></th>\n",
       "    </tr>\n",
       "  </thead>\n",
       "  <tbody>\n",
       "    <tr>\n",
       "      <th>Monday</th>\n",
       "      <td>235.251530</td>\n",
       "      <td>-0.029151</td>\n",
       "    </tr>\n",
       "    <tr>\n",
       "      <th>Tuesday</th>\n",
       "      <td>239.193707</td>\n",
       "      <td>0.071102</td>\n",
       "    </tr>\n",
       "    <tr>\n",
       "      <th>Wednesday</th>\n",
       "      <td>239.355561</td>\n",
       "      <td>0.032299</td>\n",
       "    </tr>\n",
       "    <tr>\n",
       "      <th>Thursday</th>\n",
       "      <td>239.328673</td>\n",
       "      <td>0.021453</td>\n",
       "    </tr>\n",
       "    <tr>\n",
       "      <th>Friday</th>\n",
       "      <td>238.578274</td>\n",
       "      <td>-0.000745</td>\n",
       "    </tr>\n",
       "  </tbody>\n",
       "</table>\n",
       "</div>"
      ],
      "text/plain": [
       "                  Close  pct_change\n",
       "day_of_week                        \n",
       "Monday       235.251530   -0.029151\n",
       "Tuesday      239.193707    0.071102\n",
       "Wednesday    239.355561    0.032299\n",
       "Thursday     239.328673    0.021453\n",
       "Friday       238.578274   -0.000745"
      ]
     },
     "execution_count": 9,
     "metadata": {},
     "output_type": "execute_result"
    }
   ],
   "source": [
    "week_day"
   ]
  },
  {
   "cell_type": "code",
   "execution_count": 10,
   "id": "a8406f08-e5be-4bbd-b81c-363c2adcfc8f",
   "metadata": {},
   "outputs": [
    {
     "data": {
      "image/png": "[encoded data removed]",
      "text/plain": [
       "<Figure size 1296x720 with 1 Axes>"
      ]
     },
     "metadata": {
      "needs_background": "light"
     },
     "output_type": "display_data"
    }
   ],
   "source": [
    "ax_week = week_day['Close'].plot.bar(rot=0, figsize=(18,10))\n",
    "\n",
    "ax_week.grid('on', which='minor', axis='y')\n",
    "ax_week.grid('off', which='major', axis='y')"
   ]
  },
  {
   "cell_type": "markdown",
   "id": "de3fa0c3-e26a-4ca9-ae3e-03df0e322580",
   "metadata": {},
   "source": [
    "### Group and order data by day number"
   ]
  },
  {
   "cell_type": "code",
   "execution_count": 16,
   "id": "4c9b23f2-5c0e-421a-824b-baaf5926c8aa",
   "metadata": {},
   "outputs": [
    {
     "data": {
      "text/html": [
       "<div>\n",
       "<style scoped>\n",
       "    .dataframe tbody tr th:only-of-type {\n",
       "        vertical-align: middle;\n",
       "    }\n",
       "\n",
       "    .dataframe tbody tr th {\n",
       "        vertical-align: top;\n",
       "    }\n",
       "\n",
       "    .dataframe thead th {\n",
       "        text-align: right;\n",
       "    }\n",
       "</style>\n",
       "<table border=\"1\" class=\"dataframe\">\n",
       "  <thead>\n",
       "    <tr style=\"text-align: right;\">\n",
       "      <th></th>\n",
       "      <th>Close</th>\n",
       "      <th>pct_change</th>\n",
       "    </tr>\n",
       "    <tr>\n",
       "      <th>day_number</th>\n",
       "      <th></th>\n",
       "      <th></th>\n",
       "    </tr>\n",
       "  </thead>\n",
       "  <tbody>\n",
       "    <tr>\n",
       "      <th>1</th>\n",
       "      <td>242.606524</td>\n",
       "      <td>0.189146</td>\n",
       "    </tr>\n",
       "    <tr>\n",
       "      <th>2</th>\n",
       "      <td>236.984333</td>\n",
       "      <td>0.108889</td>\n",
       "    </tr>\n",
       "    <tr>\n",
       "      <th>3</th>\n",
       "      <td>237.707527</td>\n",
       "      <td>-0.069286</td>\n",
       "    </tr>\n",
       "    <tr>\n",
       "      <th>4</th>\n",
       "      <td>238.285055</td>\n",
       "      <td>0.083462</td>\n",
       "    </tr>\n",
       "    <tr>\n",
       "      <th>5</th>\n",
       "      <td>234.234751</td>\n",
       "      <td>0.088343</td>\n",
       "    </tr>\n",
       "    <tr>\n",
       "      <th>6</th>\n",
       "      <td>237.659171</td>\n",
       "      <td>-0.010939</td>\n",
       "    </tr>\n",
       "    <tr>\n",
       "      <th>7</th>\n",
       "      <td>237.651398</td>\n",
       "      <td>-0.056595</td>\n",
       "    </tr>\n",
       "    <tr>\n",
       "      <th>8</th>\n",
       "      <td>241.331405</td>\n",
       "      <td>0.042324</td>\n",
       "    </tr>\n",
       "    <tr>\n",
       "      <th>9</th>\n",
       "      <td>239.873859</td>\n",
       "      <td>-0.034891</td>\n",
       "    </tr>\n",
       "    <tr>\n",
       "      <th>10</th>\n",
       "      <td>239.497027</td>\n",
       "      <td>-0.075189</td>\n",
       "    </tr>\n",
       "    <tr>\n",
       "      <th>11</th>\n",
       "      <td>240.267979</td>\n",
       "      <td>-0.024415</td>\n",
       "    </tr>\n",
       "    <tr>\n",
       "      <th>12</th>\n",
       "      <td>237.705753</td>\n",
       "      <td>-0.113280</td>\n",
       "    </tr>\n",
       "    <tr>\n",
       "      <th>13</th>\n",
       "      <td>240.049890</td>\n",
       "      <td>0.184286</td>\n",
       "    </tr>\n",
       "    <tr>\n",
       "      <th>14</th>\n",
       "      <td>240.969503</td>\n",
       "      <td>0.012762</td>\n",
       "    </tr>\n",
       "    <tr>\n",
       "      <th>15</th>\n",
       "      <td>237.918380</td>\n",
       "      <td>0.051117</td>\n",
       "    </tr>\n",
       "    <tr>\n",
       "      <th>16</th>\n",
       "      <td>239.041467</td>\n",
       "      <td>0.110652</td>\n",
       "    </tr>\n",
       "    <tr>\n",
       "      <th>17</th>\n",
       "      <td>237.009392</td>\n",
       "      <td>-0.026133</td>\n",
       "    </tr>\n",
       "    <tr>\n",
       "      <th>18</th>\n",
       "      <td>236.631967</td>\n",
       "      <td>0.072678</td>\n",
       "    </tr>\n",
       "    <tr>\n",
       "      <th>19</th>\n",
       "      <td>236.358415</td>\n",
       "      <td>-0.075738</td>\n",
       "    </tr>\n",
       "    <tr>\n",
       "      <th>20</th>\n",
       "      <td>237.592802</td>\n",
       "      <td>-0.129505</td>\n",
       "    </tr>\n",
       "    <tr>\n",
       "      <th>21</th>\n",
       "      <td>238.238197</td>\n",
       "      <td>-0.013279</td>\n",
       "    </tr>\n",
       "    <tr>\n",
       "      <th>22</th>\n",
       "      <td>241.053516</td>\n",
       "      <td>-0.093681</td>\n",
       "    </tr>\n",
       "    <tr>\n",
       "      <th>23</th>\n",
       "      <td>240.714890</td>\n",
       "      <td>0.009890</td>\n",
       "    </tr>\n",
       "    <tr>\n",
       "      <th>24</th>\n",
       "      <td>238.173370</td>\n",
       "      <td>-0.037735</td>\n",
       "    </tr>\n",
       "    <tr>\n",
       "      <th>25</th>\n",
       "      <td>235.976744</td>\n",
       "      <td>0.127558</td>\n",
       "    </tr>\n",
       "    <tr>\n",
       "      <th>26</th>\n",
       "      <td>235.776000</td>\n",
       "      <td>0.122171</td>\n",
       "    </tr>\n",
       "    <tr>\n",
       "      <th>27</th>\n",
       "      <td>236.398162</td>\n",
       "      <td>-0.018595</td>\n",
       "    </tr>\n",
       "    <tr>\n",
       "      <th>28</th>\n",
       "      <td>239.251923</td>\n",
       "      <td>0.086374</td>\n",
       "    </tr>\n",
       "    <tr>\n",
       "      <th>29</th>\n",
       "      <td>239.311163</td>\n",
       "      <td>0.088372</td>\n",
       "    </tr>\n",
       "    <tr>\n",
       "      <th>30</th>\n",
       "      <td>237.457381</td>\n",
       "      <td>-0.029583</td>\n",
       "    </tr>\n",
       "    <tr>\n",
       "      <th>31</th>\n",
       "      <td>237.219533</td>\n",
       "      <td>0.107757</td>\n",
       "    </tr>\n",
       "  </tbody>\n",
       "</table>\n",
       "</div>"
      ],
      "text/plain": [
       "                 Close  pct_change\n",
       "day_number                        \n",
       "1           242.606524    0.189146\n",
       "2           236.984333    0.108889\n",
       "3           237.707527   -0.069286\n",
       "4           238.285055    0.083462\n",
       "5           234.234751    0.088343\n",
       "6           237.659171   -0.010939\n",
       "7           237.651398   -0.056595\n",
       "8           241.331405    0.042324\n",
       "9           239.873859   -0.034891\n",
       "10          239.497027   -0.075189\n",
       "11          240.267979   -0.024415\n",
       "12          237.705753   -0.113280\n",
       "13          240.049890    0.184286\n",
       "14          240.969503    0.012762\n",
       "15          237.918380    0.051117\n",
       "16          239.041467    0.110652\n",
       "17          237.009392   -0.026133\n",
       "18          236.631967    0.072678\n",
       "19          236.358415   -0.075738\n",
       "20          237.592802   -0.129505\n",
       "21          238.238197   -0.013279\n",
       "22          241.053516   -0.093681\n",
       "23          240.714890    0.009890\n",
       "24          238.173370   -0.037735\n",
       "25          235.976744    0.127558\n",
       "26          235.776000    0.122171\n",
       "27          236.398162   -0.018595\n",
       "28          239.251923    0.086374\n",
       "29          239.311163    0.088372\n",
       "30          237.457381   -0.029583\n",
       "31          237.219533    0.107757"
      ]
     },
     "execution_count": 16,
     "metadata": {},
     "output_type": "execute_result"
    }
   ],
   "source": [
    "day_number= gsef.groupby(['day_number'])[['Close', 'pct_change']].mean()\n",
    "day_number = day_number.reset_index(level=0)\n",
    "\n",
    "#day_of_week_order = ['Monday', 'Tuesday', 'Wednesday', 'Thursday', 'Friday', 'Saturday', 'Sunday']\n",
    "#week_day['day_of_week'] = pd.Categorical(week_day['day_of_week'], categories=day_of_week_order, ordered=True)\n",
    "day_number = day_number.sort_values('day_number').reset_index(drop=True)\n",
    "day_number.set_index('day_number', inplace=True)\n",
    "\n",
    "day_number"
   ]
  },
  {
   "cell_type": "code",
   "execution_count": 12,
   "id": "41c36089-12c8-4fdc-9fd4-02063c2a0f81",
   "metadata": {},
   "outputs": [
    {
     "data": {
      "image/png": "[encoded data removed]",
      "text/plain": [
       "<Figure size 1296x720 with 1 Axes>"
      ]
     },
     "metadata": {
      "needs_background": "light"
     },
     "output_type": "display_data"
    }
   ],
   "source": [
    "min_day_number = int(day_number['Close'].min())\n",
    "max_day_number = int(day_number['Close'].max())\n",
    "\n",
    "ax_day_number = day_number['Close'].plot.line(rot=0, figsize=(18,10))\n",
    "plt.xticks(range(1,31))\n",
    "plt.yticks(range(min_day_number,max_day_number+2))\n",
    "\n",
    "ax_day_number.grid('on', which='minor', axis='y')\n",
    "ax_day_number.grid('off', which='major', axis='y')\n",
    "\n",
    "ax_day_number.grid('on', which='minor', axis='x')\n",
    "ax_day_number.grid('off', which='major', axis='x')"
   ]
  },
  {
   "cell_type": "markdown",
   "id": "a90df7f8-5d23-48a1-a31d-d4c9c904f55c",
   "metadata": {},
   "source": [
    "## Time Elapsed"
   ]
  },
  {
   "cell_type": "code",
   "execution_count": 13,
   "id": "3258e8f6-da76-45dc-aced-61e154006040",
   "metadata": {},
   "outputs": [
    {
     "name": "stdout",
     "output_type": "stream",
     "text": [
      "\n",
      " Success! Your GSEF descriptive anlaysis has been updated in 1 seconds on 2022-05-28 00:15:34\n"
     ]
    }
   ],
   "source": [
    "# Calculate and print the time elapsed to run ETL process and the date and time of the latest run\n",
    "time_elapsed = timeit.default_timer() - start_time\n",
    "\n",
    "time_elapsed_seconds = int(time_elapsed % 60)\n",
    "\n",
    "now = datetime.datetime.now()\n",
    "\n",
    "print(\"\\n Success! Your GSEF descriptive anlaysis has been updated in {} seconds on {}\".format(time_elapsed_seconds, now.strftime(\"%Y-%m-%d %H:%M:%S\")))"
   ]
  }
 ],
 "metadata": {
  "kernelspec": {
   "display_name": "gsef",
   "language": "python",
   "name": "gsef"
  },
  "language_info": {
   "codemirror_mode": {
    "name": "ipython",
    "version": 3
   },
   "file_extension": ".py",
   "mimetype": "text/x-python",
   "name": "python",
   "nbconvert_exporter": "python",
   "pygments_lexer": "ipython3",
   "version": "3.10.2"
  }
 },
 "nbformat": 4,
 "nbformat_minor": 5
}
