{
 "cells": [
  {
   "cell_type": "markdown",
   "id": "41539041-640c-402c-abba-efdf1a96dfa8",
   "metadata": {},
   "source": [
    "# GSEF descriptive anlaysis"
   ]
  },
  {
   "cell_type": "code",
   "execution_count": 1,
   "id": "204f8e49-b190-416a-9fb1-a69fdde5c064",
   "metadata": {},
   "outputs": [],
   "source": [
    "import timeit\n",
    "start_time = timeit.default_timer()"
   ]
  },
  {
   "cell_type": "markdown",
   "id": "cd5362ba-5e38-481c-8523-a81951232991",
   "metadata": {},
   "source": [
    "## Import libraries"
   ]
  },
  {
   "cell_type": "code",
   "execution_count": 2,
   "id": "4fa2df8c-0379-4eb9-b68c-b30bf97fdade",
   "metadata": {},
   "outputs": [],
   "source": [
    "## Import libraries\n",
    "import time\n",
    "import datetime\n",
    "import pandas as pd\n",
    "import io\n",
    "import matplotlib.pyplot as plt"
   ]
  },
  {
   "cell_type": "markdown",
   "id": "767a230f-a6ec-4547-87c2-3843551f6420",
   "metadata": {},
   "source": [
    "## Read data and reorder columns"
   ]
  },
  {
   "cell_type": "code",
   "execution_count": 3,
   "id": "81b1686b-1719-424e-812f-ac00cc00dec7",
   "metadata": {},
   "outputs": [],
   "source": [
    "gsef= pd.read_csv('gsef_output/historical_gsef.csv', parse_dates=['Date'], dayfirst=True)\n",
    "gsef['day_of_week'] = pd.to_datetime(gsef['Date']).dt.day_name()\n",
    "\n",
    "cols = gsef.columns.tolist()\n",
    "\n",
    "cols = cols[:1] + cols[3:4] + cols[1:3]\n",
    "\n",
    "gsef = gsef[cols]"
   ]
  },
  {
   "cell_type": "markdown",
   "id": "6de8e494-dc99-49c3-8f88-e5e43cd45507",
   "metadata": {},
   "source": [
    "### Group and order data by day of week"
   ]
  },
  {
   "cell_type": "code",
   "execution_count": 4,
   "id": "06d2a9eb-9263-41ed-a017-4f31dcebff63",
   "metadata": {},
   "outputs": [],
   "source": [
    "week_day= gsef.groupby(['day_of_week']).mean()\n",
    "week_day = week_day.reset_index(level=0)\n",
    "\n",
    "day_of_week_order = ['Monday', 'Tuesday', 'Wednesday', 'Thursday', 'Friday', 'Saturday', 'Sunday']\n",
    "week_day['day_of_week'] = pd.Categorical(week_day['day_of_week'], categories=day_of_week_order, ordered=True)\n",
    "week_day = week_day.sort_values('day_of_week').reset_index(drop=True)\n",
    "week_day.set_index('day_of_week', inplace=True)"
   ]
  },
  {
   "cell_type": "code",
   "execution_count": 6,
   "id": "8457538e-2217-4c63-9169-e16a972b185e",
   "metadata": {},
   "outputs": [
    {
     "data": {
      "text/html": [
       "<div>\n",
       "<style scoped>\n",
       "    .dataframe tbody tr th:only-of-type {\n",
       "        vertical-align: middle;\n",
       "    }\n",
       "\n",
       "    .dataframe tbody tr th {\n",
       "        vertical-align: top;\n",
       "    }\n",
       "\n",
       "    .dataframe thead th {\n",
       "        text-align: right;\n",
       "    }\n",
       "</style>\n",
       "<table border=\"1\" class=\"dataframe\">\n",
       "  <thead>\n",
       "    <tr style=\"text-align: right;\">\n",
       "      <th></th>\n",
       "      <th>Close</th>\n",
       "      <th>pct_change</th>\n",
       "    </tr>\n",
       "    <tr>\n",
       "      <th>day_of_week</th>\n",
       "      <th></th>\n",
       "      <th></th>\n",
       "    </tr>\n",
       "  </thead>\n",
       "  <tbody>\n",
       "    <tr>\n",
       "      <th>Monday</th>\n",
       "      <td>234.704804</td>\n",
       "      <td>-0.029150</td>\n",
       "    </tr>\n",
       "    <tr>\n",
       "      <th>Tuesday</th>\n",
       "      <td>238.683508</td>\n",
       "      <td>0.071941</td>\n",
       "    </tr>\n",
       "    <tr>\n",
       "      <th>Wednesday</th>\n",
       "      <td>238.854625</td>\n",
       "      <td>0.034250</td>\n",
       "    </tr>\n",
       "    <tr>\n",
       "      <th>Thursday</th>\n",
       "      <td>238.818725</td>\n",
       "      <td>0.020995</td>\n",
       "    </tr>\n",
       "    <tr>\n",
       "      <th>Friday</th>\n",
       "      <td>238.322091</td>\n",
       "      <td>-0.001838</td>\n",
       "    </tr>\n",
       "  </tbody>\n",
       "</table>\n",
       "</div>"
      ],
      "text/plain": [
       "                  Close  pct_change\n",
       "day_of_week                        \n",
       "Monday       234.704804   -0.029150\n",
       "Tuesday      238.683508    0.071941\n",
       "Wednesday    238.854625    0.034250\n",
       "Thursday     238.818725    0.020995\n",
       "Friday       238.322091   -0.001838"
      ]
     },
     "execution_count": 6,
     "metadata": {},
     "output_type": "execute_result"
    }
   ],
   "source": [
    "week_day"
   ]
  },
  {
   "cell_type": "code",
   "execution_count": 5,
   "id": "a8406f08-e5be-4bbd-b81c-363c2adcfc8f",
   "metadata": {},
   "outputs": [
    {
     "data": {
      "image/png": "[encoded data removed]",
      "text/plain": [
       "<Figure size 432x288 with 1 Axes>"
      ]
     },
     "metadata": {
      "needs_background": "light"
     },
     "output_type": "display_data"
    }
   ],
   "source": [
    "ax = week_day['Close'].plot.bar(rot=0)"
   ]
  }
 ],
 "metadata": {
  "kernelspec": {
   "display_name": "gsef",
   "language": "python",
   "name": "gsef"
  },
  "language_info": {
   "codemirror_mode": {
    "name": "ipython",
    "version": 3
   },
   "file_extension": ".py",
   "mimetype": "text/x-python",
   "name": "python",
   "nbconvert_exporter": "python",
   "pygments_lexer": "ipython3",
   "version": "3.10.2"
  }
 },
 "nbformat": 4,
 "nbformat_minor": 5
}
