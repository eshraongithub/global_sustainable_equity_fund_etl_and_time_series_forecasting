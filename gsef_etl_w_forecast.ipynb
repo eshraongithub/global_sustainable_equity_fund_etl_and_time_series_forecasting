{
 "cells": [
  {
   "cell_type": "code",
   "execution_count": null,
   "id": "2867cdf3-c566-4a8a-b08f-118c2c486bdd",
   "metadata": {},
   "outputs": [],
   "source": [
    "import timeit\n",
    "start_time = timeit.default_timer()"
   ]
  },
  {
   "cell_type": "code",
   "execution_count": null,
   "id": "abb426b3-df61-4acc-90c7-022efbae00e2",
   "metadata": {},
   "outputs": [],
   "source": [
    "## Import libraries\n",
    "import time\n",
    "import datetime\n",
    "import pandas as pd\n",
    "import io\n",
    "import matplotlib.pyplot as plt"
   ]
  },
  {
   "cell_type": "code",
   "execution_count": null,
   "id": "c9010210-0436-435f-83df-c4ed22d3f07a",
   "metadata": {},
   "outputs": [],
   "source": [
    "pd.set_option('display.max_column',None)\n",
    "tomorrow = (datetime.date.today() + datetime.timedelta(days=1)).isoformat() #get tomorrow in iso format as needed'''\n",
    "url = pd.read_html(\"https://markets.ft.com/data/funds/tearsheet/historical?s=LU0119216553:EUR\", header=0)\n",
    "table = url[0]\n",
    "gsef_latest = table[['Date', 'Close']]\n",
    "gsef_latest_selected= gsef_latest.copy()"
   ]
  },
  {
   "cell_type": "code",
   "execution_count": null,
   "id": "39c03efa-7c60-48ed-9a59-8ba4ec3f9c63",
   "metadata": {},
   "outputs": [],
   "source": [
    "gsef_latest_selected['Date'] = gsef_latest_selected.loc[:,'Date'].str[-12:]\n",
    "gsef_latest_selected['Date'] = pd.to_datetime(gsef_latest_selected['Date'])"
   ]
  },
  {
   "cell_type": "code",
   "execution_count": null,
   "id": "84dc2a97-d06e-4fd5-895c-745c9493296d",
   "metadata": {},
   "outputs": [],
   "source": [
    "gsef_historical= pd.read_csv('gsef_folder/historical_gsef.csv', parse_dates=['Date'])"
   ]
  },
  {
   "cell_type": "code",
   "execution_count": null,
   "id": "290b50ba-87d2-48d5-b568-6b6314d2c803",
   "metadata": {},
   "outputs": [],
   "source": [
    "gsef = pd.concat([gsef_latest_selected, gsef_historical], ignore_index=True).sort_values(by=\"Date\")\n",
    "\n",
    "gsef = gsef.reset_index(drop=True)"
   ]
  },
  {
   "cell_type": "code",
   "execution_count": null,
   "id": "776a0a40-3157-416e-92bc-fc4bae557f27",
   "metadata": {},
   "outputs": [],
   "source": [
    "gsef['pct_change']= (gsef[\"Close\"].pct_change()*100).round(2)"
   ]
  },
  {
   "cell_type": "code",
   "execution_count": null,
   "id": "d6e5af0b-e95d-42ee-9951-df29922ea6ce",
   "metadata": {},
   "outputs": [],
   "source": [
    "gsef = gsef.drop_duplicates('Date')"
   ]
  },
  {
   "cell_type": "code",
   "execution_count": null,
   "id": "d89ccf84-4291-4b51-b5ee-2929766ad01f",
   "metadata": {},
   "outputs": [],
   "source": [
    "gsef.to_csv('gsef_folder/historical_gsef.csv', index=False)"
   ]
  },
  {
   "cell_type": "code",
   "execution_count": null,
   "id": "2f886616-03a5-4750-b960-c26693f2afea",
   "metadata": {},
   "outputs": [],
   "source": [
    "gsef.plot(x= 'Date', y='Close', figsize=(10,10), title= 'GSEF Price by Date', legend=False)\n",
    "\n",
    "historical_chart= 'gsef_folder/gsef_historical.png'\n",
    "\n",
    "import os\n",
    "if os.path.exists(historical_chart):\n",
    "  os.remove(historical_chart)\n",
    "else:\n",
    "  print(\"The historical chart didn't exist and it has been created.\")\n",
    "\n",
    "#plt.show()"
   ]
  },
  {
   "cell_type": "code",
   "execution_count": null,
   "id": "d757de55",
   "metadata": {},
   "outputs": [],
   "source": [
    "plt.savefig('gsef_folder/gsef_historical.png')"
   ]
  },
  {
   "cell_type": "markdown",
   "id": "7a091ac2-3484-4594-9c87-dfde53ee8b72",
   "metadata": {},
   "source": [
    "# GSEF forecast"
   ]
  },
  {
   "cell_type": "markdown",
   "id": "91ac2a3f-c588-49ae-85ad-f0b1534c043d",
   "metadata": {},
   "source": [
    "This analysis demonstrates the use of ARIMA models to predict the prices of the NN (L) Global Sustainable Equity fund."
   ]
  },
  {
   "cell_type": "markdown",
   "id": "30f8723b-82e7-42f3-90f5-9a39f33620ec",
   "metadata": {},
   "source": [
    "## Imports & data loading"
   ]
  },
  {
   "cell_type": "code",
   "execution_count": null,
   "id": "10510921-cf00-455b-9255-ffad888dd764",
   "metadata": {},
   "outputs": [],
   "source": [
    "import pmdarima as pm\n",
    "from pmdarima.model_selection import train_test_split\n",
    "import numpy as np"
   ]
  },
  {
   "cell_type": "code",
   "execution_count": null,
   "id": "77340443-c989-4d11-bbff-80c42be55b28",
   "metadata": {},
   "outputs": [],
   "source": [
    "gsef_selected= gsef[['Date','Close']]"
   ]
  },
  {
   "cell_type": "code",
   "execution_count": null,
   "id": "5836d0bd-03bb-40a3-a777-e7f71dffb5a0",
   "metadata": {},
   "outputs": [],
   "source": [
    "y = gsef_selected['Close'].values"
   ]
  },
  {
   "cell_type": "markdown",
   "id": "ad329548-200c-4eb9-8f1a-1b8d75c61b11",
   "metadata": {},
   "source": [
    "## Data splitting"
   ]
  },
  {
   "cell_type": "code",
   "execution_count": null,
   "id": "32da1bab-7cd2-48bd-b0f0-4c08005900bc",
   "metadata": {},
   "outputs": [],
   "source": [
    "train_data, test_data = gsef_selected[0:int(len(gsef_selected)*0.8)], gsef_selected[int(len(gsef_selected)*0.8):]\n",
    "\n",
    "# Load/split your data\n",
    "y_train, y_test = train_test_split(y, train_size= len(train_data))"
   ]
  },
  {
   "cell_type": "markdown",
   "id": "cf1370df-a668-4a4f-a6a2-154be807e41c",
   "metadata": {},
   "source": [
    "## Pre-modeling analysis"
   ]
  },
  {
   "cell_type": "code",
   "execution_count": null,
   "id": "05d51f01-6b21-4d8a-a058-2b6c028bc003",
   "metadata": {},
   "outputs": [],
   "source": [
    "from pandas.plotting import lag_plot\n",
    "\n",
    "fig, axes = plt.subplots(3, 2, figsize=(12, 18))\n",
    "plt.title('GSEF Autocorrelation plot')\n",
    "\n",
    "# The axis coordinates for the plots\n",
    "ax_idcs = [\n",
    "    (0, 0),\n",
    "    (0, 1),\n",
    "    (1, 0),\n",
    "    (1, 1),\n",
    "    (2, 0),\n",
    "    (2, 1)\n",
    "]\n",
    "\n",
    "for lag, ax_coords in enumerate(ax_idcs, 1):\n",
    "    ax_row, ax_col = ax_coords\n",
    "    axis = axes[ax_row][ax_col]\n",
    "    lag_plot(gsef_selected['Close'], lag=lag, ax=axis)\n",
    "    axis.set_title(f\"Lag={lag}\")\n",
    "\n",
    "#plt.show()"
   ]
  },
  {
   "cell_type": "markdown",
   "id": "90050a93-5ff1-4e86-ad11-f51656408fb9",
   "metadata": {},
   "source": [
    "## Estimating the differencing term"
   ]
  },
  {
   "cell_type": "code",
   "execution_count": null,
   "id": "54e66a73-719d-48db-9f53-cc894181f806",
   "metadata": {},
   "outputs": [],
   "source": [
    "from pmdarima.arima import ndiffs\n",
    "\n",
    "kpss_diffs = ndiffs(y_train, alpha=0.05, test='kpss', max_d=6)\n",
    "adf_diffs = ndiffs(y_train, alpha=0.05, test='adf', max_d=6)\n",
    "n_diffs = max(adf_diffs, kpss_diffs)\n",
    "\n",
    "print(f\"Estimated differencing term: {n_diffs}\")"
   ]
  },
  {
   "cell_type": "markdown",
   "id": "71fbff87-cfb9-4c7b-b97e-c369f31bb070",
   "metadata": {},
   "source": [
    "## Fitting our model"
   ]
  },
  {
   "cell_type": "code",
   "execution_count": null,
   "id": "56d14460-7321-4903-9685-b0d00e683b3c",
   "metadata": {},
   "outputs": [],
   "source": [
    "auto = pm.auto_arima(y_train, d=n_diffs, seasonal=True, stepwise=True,\n",
    "                     suppress_warnings=True, error_action=\"ignore\", max_p=6,\n",
    "                     max_order=None, trace=True)"
   ]
  },
  {
   "cell_type": "markdown",
   "id": "2eb4f3b7-2f18-49f1-a1cf-8afc12525fba",
   "metadata": {},
   "source": [
    "## Updating the model"
   ]
  },
  {
   "cell_type": "code",
   "execution_count": null,
   "id": "e4730db2-9c43-480d-9147-9aba79d42a16",
   "metadata": {},
   "outputs": [],
   "source": [
    "from sklearn.metrics import mean_squared_error\n",
    "from pmdarima.metrics import smape\n",
    "\n",
    "model = auto  # seeded from the model we've already fit\n",
    "\n",
    "def forecast_one_step():\n",
    "    fc, conf_int = model.predict(n_periods=1, return_conf_int=True)\n",
    "    return (\n",
    "        fc.tolist()[0],\n",
    "        np.asarray(conf_int).tolist()[0])\n",
    "\n",
    "forecasts = []\n",
    "confidence_intervals = []\n",
    "\n",
    "for new_ob in y_test:\n",
    "    fc, conf = forecast_one_step()\n",
    "    forecasts.append(fc)\n",
    "    confidence_intervals.append(conf)\n",
    "\n",
    "    # Updates the existing model with a small number of MLE steps\n",
    "    model.update(new_ob)\n",
    "\n",
    "print(f\"Mean squared error: {mean_squared_error(y_test, forecasts)}\")\n",
    "print(f\"SMAPE: {smape(y_test, forecasts)}\")"
   ]
  },
  {
   "cell_type": "code",
   "execution_count": null,
   "id": "050e12ae-aa4f-42de-850d-468252678e70",
   "metadata": {},
   "outputs": [],
   "source": [
    "model.summary()"
   ]
  },
  {
   "cell_type": "markdown",
   "id": "c44835bd-8746-4450-a253-301e33488000",
   "metadata": {},
   "source": [
    "## Viewing forecasts"
   ]
  },
  {
   "cell_type": "code",
   "execution_count": null,
   "id": "b18cff72-1fb3-4e2e-be50-8176e0be46c6",
   "metadata": {},
   "outputs": [],
   "source": [
    "fig, axes = plt.subplots(2, 1, figsize=(12, 12))\n",
    "\n",
    "# --------------------- Actual vs. Predicted --------------------------\n",
    "axes[0].plot(y_train, color='blue', label='Training Data')\n",
    "axes[0].plot(test_data.index, forecasts, color='green', marker='o',\n",
    "             label='Predicted Price')\n",
    "\n",
    "axes[0].plot(test_data.index, y_test, color='red', label='Actual Price')\n",
    "axes[0].set_title('GSEF Prices Forecast')\n",
    "axes[0].set_xlabel('Dates')\n",
    "axes[0].set_ylabel('Prices')\n",
    "\n",
    "\n",
    "axes[0].legend()\n",
    "\n",
    "\n",
    "# ------------------ Predicted with confidence intervals ----------------\n",
    "axes[1].plot(y_train, color='blue', label='Training Data')\n",
    "axes[1].plot(test_data.index, forecasts, color='green',\n",
    "             label='Predicted Price')\n",
    "\n",
    "axes[1].set_title('Prices Forecasts & Confidence Intervals')\n",
    "axes[1].set_xlabel('Dates')\n",
    "axes[1].set_ylabel('Prices')\n",
    "\n",
    "conf_int = np.asarray(confidence_intervals)\n",
    "axes[1].fill_between(test_data.index,\n",
    "                     conf_int[:, 0], conf_int[:, 1],\n",
    "                     alpha=0.9, color='orange',\n",
    "                     label=\"Confidence Intervals\")\n",
    "\n",
    "axes[1].legend()"
   ]
  },
  {
   "cell_type": "markdown",
   "id": "f430358a-a51d-4452-94af-c952290b7295",
   "metadata": {},
   "source": [
    "## Forecast the Price for the next 10 business days"
   ]
  },
  {
   "cell_type": "code",
   "execution_count": null,
   "id": "258718c8-e57c-478b-b66d-81b0eec8a0a4",
   "metadata": {},
   "outputs": [],
   "source": [
    "# Forecast the Priece for the next 10 business days\n",
    "forecast= model.predict(start= len(gsef_selected), end= len(gsef_selected)+10, type= 'levels')\n",
    "\n",
    "following_day= gsef_selected.Date.iloc[-1]+ pd.DateOffset(1)\n",
    "\n",
    "index_future_dates= pd.date_range(start= following_day, periods=10, freq='B')\n",
    "\n",
    "forecast_df = pd.DataFrame(forecast, columns = ['Close'], index= pd.DatetimeIndex(index_future_dates)).reset_index(level=0)\n",
    "\n",
    "forecast_df.rename(columns={'index': 'Date'}, inplace=True)\n",
    "\n",
    "existing_with_forecast= pd.concat([gsef_selected, forecast_df], ignore_index=True, sort=False)"
   ]
  },
  {
   "cell_type": "markdown",
   "id": "60b6fd5d-701a-436e-9d7e-a94a07d571ec",
   "metadata": {},
   "source": [
    "## Visualise and save the forecasts"
   ]
  },
  {
   "cell_type": "code",
   "execution_count": null,
   "id": "5bf59696-0d86-420d-8116-c3d5dab5f290",
   "metadata": {},
   "outputs": [],
   "source": [
    "#plt.plot(existing_with_forecast['Date'][:-10], existing_with_forecast['Close'][:-10], color='crimson')\n",
    "\n",
    "plt.figure(figsize=(18, 18))\n",
    "\n",
    "plt.plot(existing_with_forecast['Date'][-10:], existing_with_forecast['Close'][-10:], color='dodgerblue')\n",
    "\n",
    "plt.ylabel('Price')\n",
    "\n",
    "plt.title('GSEF 10 Business Days Forecast')\n",
    "\n",
    "forecast_chart= 'gsef_folder/gsef_10_day_forecast.png'\n",
    "\n",
    "import os\n",
    "if os.path.exists(forecast_chart):\n",
    "  os.remove(forecast_chart)\n",
    "else:\n",
    "  print(\"The Forecast chart didn't exist and it has been created.\")\n",
    "\n",
    "plt.savefig('gsef_folder/gsef_10_day_forecast.png', dpi=100)\n",
    "\n",
    "#plt.show()"
   ]
  },
  {
   "cell_type": "markdown",
   "id": "fb8081ac-5e80-47eb-a695-29f282f81c9f",
   "metadata": {},
   "source": [
    "## Time Elapsed"
   ]
  },
  {
   "cell_type": "code",
   "execution_count": null,
   "id": "76b2af91-a724-4433-8984-7241befbeabc",
   "metadata": {},
   "outputs": [],
   "source": [
    "# Calculate and print the time elapsed to run ETL process and the date and time of the latest run\n",
    "time_elapsed = timeit.default_timer() - start_time\n",
    "\n",
    "time_elapsed_minutes = int((time_elapsed % 3600) // 60)\n",
    "\n",
    "time_elapsed_seconds = int(time_elapsed % 60)\n",
    "\n",
    "now = datetime.datetime.now()\n",
    "\n",
    "print(\"\\n Success! Your GSEF data and forecast have been updated in {} minutes and {} seconds on {}\".format(time_elapsed_minutes, time_elapsed_seconds, now.strftime(\"%Y-%m-%d %H:%M:%S\")))"
   ]
  }
 ],
 "metadata": {
  "kernelspec": {
   "display_name": "gsef",
   "language": "python",
   "name": "gsef"
  },
  "language_info": {
   "codemirror_mode": {
    "name": "ipython",
    "version": 3
   },
   "file_extension": ".py",
   "mimetype": "text/x-python",
   "name": "python",
   "nbconvert_exporter": "python",
   "pygments_lexer": "ipython3",
   "version": "3.10.2"
  }
 },
 "nbformat": 4,
 "nbformat_minor": 5
}
